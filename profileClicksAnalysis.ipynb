{
 "cells": [
  {
   "cell_type": "markdown",
   "id": "f3f8f03b",
   "metadata": {},
   "source": [
    "## Imports"
   ]
  },
  {
   "cell_type": "code",
   "execution_count": 6,
   "id": "c4ed4858",
   "metadata": {},
   "outputs": [],
   "source": [
    "import pandas as pd\n",
    "import seaborn as sns\n",
    "import numpy as np\n",
    "import shap\n",
    "from matplotlib import pyplot as plt\n",
    "from sklearn.ensemble import RandomForestRegressor, GradientBoostingRegressor\n",
    "from sklearn.model_selection import cross_val_score\n",
    "from statsmodels.graphics.regressionplots import plot_partregress"
   ]
  },
  {
   "cell_type": "markdown",
   "id": "13323461",
   "metadata": {},
   "source": [
    "# Client Views"
   ]
  },
  {
   "cell_type": "markdown",
   "id": "f970e9f9",
   "metadata": {},
   "source": [
    "## Load and Clean Data"
   ]
  },
  {
   "cell_type": "code",
   "execution_count": 7,
   "id": "a5c06ffc",
   "metadata": {
    "scrolled": true
   },
   "outputs": [
    {
     "data": {
      "text/html": [
       "<div>\n",
       "<style scoped>\n",
       "    .dataframe tbody tr th:only-of-type {\n",
       "        vertical-align: middle;\n",
       "    }\n",
       "\n",
       "    .dataframe tbody tr th {\n",
       "        vertical-align: top;\n",
       "    }\n",
       "\n",
       "    .dataframe thead th {\n",
       "        text-align: right;\n",
       "    }\n",
       "</style>\n",
       "<table border=\"1\" class=\"dataframe\">\n",
       "  <thead>\n",
       "    <tr style=\"text-align: right;\">\n",
       "      <th></th>\n",
       "      <th>profileviewtimestamp</th>\n",
       "      <th>candidateId</th>\n",
       "      <th>profileid</th>\n",
       "      <th>firstname</th>\n",
       "      <th>lastname</th>\n",
       "      <th>profilepicture</th>\n",
       "      <th>pitchvideo</th>\n",
       "      <th>searchstatus</th>\n",
       "      <th>gender</th>\n",
       "      <th>race</th>\n",
       "      <th>school</th>\n",
       "      <th>graduationyear</th>\n",
       "      <th>degree</th>\n",
       "      <th>company</th>\n",
       "      <th>position</th>\n",
       "      <th>monthsatcompany</th>\n",
       "      <th>profileviews</th>\n",
       "    </tr>\n",
       "  </thead>\n",
       "  <tbody>\n",
       "    <tr>\n",
       "      <th>0</th>\n",
       "      <td>7/26/21 18:23</td>\n",
       "      <td>21920</td>\n",
       "      <td>37245</td>\n",
       "      <td>Michael</td>\n",
       "      <td>Mosher</td>\n",
       "      <td>1</td>\n",
       "      <td>0</td>\n",
       "      <td>2</td>\n",
       "      <td>NaN</td>\n",
       "      <td>NaN</td>\n",
       "      <td>Santa Clara University</td>\n",
       "      <td>NaN</td>\n",
       "      <td>Bachelors</td>\n",
       "      <td>NS1</td>\n",
       "      <td>Account Executive</td>\n",
       "      <td>35</td>\n",
       "      <td>2</td>\n",
       "    </tr>\n",
       "    <tr>\n",
       "      <th>1</th>\n",
       "      <td>6/29/21 13:07</td>\n",
       "      <td>141097</td>\n",
       "      <td>276853</td>\n",
       "      <td>Lacey</td>\n",
       "      <td>Habicht</td>\n",
       "      <td>1</td>\n",
       "      <td>0</td>\n",
       "      <td>4</td>\n",
       "      <td>NaN</td>\n",
       "      <td>NaN</td>\n",
       "      <td>St. Francis College</td>\n",
       "      <td>2014.0</td>\n",
       "      <td>Bachelors</td>\n",
       "      <td>Kaseya</td>\n",
       "      <td>Senior Enterprise Account Manager</td>\n",
       "      <td>2</td>\n",
       "      <td>1</td>\n",
       "    </tr>\n",
       "    <tr>\n",
       "      <th>2</th>\n",
       "      <td>7/30/21 18:10</td>\n",
       "      <td>42843</td>\n",
       "      <td>328841</td>\n",
       "      <td>Conor</td>\n",
       "      <td>House</td>\n",
       "      <td>1</td>\n",
       "      <td>0</td>\n",
       "      <td>4</td>\n",
       "      <td>Male</td>\n",
       "      <td>White</td>\n",
       "      <td>Miami University</td>\n",
       "      <td>2015.0</td>\n",
       "      <td>Bachelors</td>\n",
       "      <td>Paycom</td>\n",
       "      <td>Sales Representative</td>\n",
       "      <td>4</td>\n",
       "      <td>3</td>\n",
       "    </tr>\n",
       "    <tr>\n",
       "      <th>3</th>\n",
       "      <td>7/29/21 18:33</td>\n",
       "      <td>18280</td>\n",
       "      <td>315894</td>\n",
       "      <td>Sarah</td>\n",
       "      <td>Walker</td>\n",
       "      <td>1</td>\n",
       "      <td>0</td>\n",
       "      <td>4</td>\n",
       "      <td>Female</td>\n",
       "      <td>White</td>\n",
       "      <td>The University of the South</td>\n",
       "      <td>2010.0</td>\n",
       "      <td>Bachelors</td>\n",
       "      <td>Staffbase (#1 employee app solution)</td>\n",
       "      <td>Account Executive</td>\n",
       "      <td>15</td>\n",
       "      <td>6</td>\n",
       "    </tr>\n",
       "    <tr>\n",
       "      <th>4</th>\n",
       "      <td>7/14/21 15:02</td>\n",
       "      <td>88499</td>\n",
       "      <td>293670</td>\n",
       "      <td>Mark</td>\n",
       "      <td>Hernandez</td>\n",
       "      <td>1</td>\n",
       "      <td>0</td>\n",
       "      <td>4</td>\n",
       "      <td>NaN</td>\n",
       "      <td>NaN</td>\n",
       "      <td>National University</td>\n",
       "      <td>NaN</td>\n",
       "      <td>Masters</td>\n",
       "      <td>Celestix Networks, Inc.</td>\n",
       "      <td>Account Executive</td>\n",
       "      <td>54</td>\n",
       "      <td>2</td>\n",
       "    </tr>\n",
       "  </tbody>\n",
       "</table>\n",
       "</div>"
      ],
      "text/plain": [
       "  profileviewtimestamp  candidateId  profileid firstname   lastname  \\\n",
       "0        7/26/21 18:23        21920      37245   Michael     Mosher   \n",
       "1        6/29/21 13:07       141097     276853     Lacey    Habicht   \n",
       "2        7/30/21 18:10        42843     328841     Conor      House   \n",
       "3        7/29/21 18:33        18280     315894     Sarah     Walker   \n",
       "4        7/14/21 15:02        88499     293670      Mark  Hernandez   \n",
       "\n",
       "   profilepicture  pitchvideo  searchstatus  gender   race  \\\n",
       "0               1           0             2     NaN    NaN   \n",
       "1               1           0             4     NaN    NaN   \n",
       "2               1           0             4    Male  White   \n",
       "3               1           0             4  Female  White   \n",
       "4               1           0             4     NaN    NaN   \n",
       "\n",
       "                        school  graduationyear     degree  \\\n",
       "0       Santa Clara University             NaN  Bachelors   \n",
       "1          St. Francis College          2014.0  Bachelors   \n",
       "2             Miami University          2015.0  Bachelors   \n",
       "3  The University of the South          2010.0  Bachelors   \n",
       "4          National University             NaN    Masters   \n",
       "\n",
       "                                company                           position  \\\n",
       "0                                   NS1                  Account Executive   \n",
       "1                                Kaseya  Senior Enterprise Account Manager   \n",
       "2                                Paycom               Sales Representative   \n",
       "3  Staffbase (#1 employee app solution)                  Account Executive   \n",
       "4               Celestix Networks, Inc.                  Account Executive   \n",
       "\n",
       "   monthsatcompany  profileviews  \n",
       "0               35             2  \n",
       "1                2             1  \n",
       "2                4             3  \n",
       "3               15             6  \n",
       "4               54             2  "
      ]
     },
     "execution_count": 7,
     "metadata": {},
     "output_type": "execute_result"
    }
   ],
   "source": [
    "df = pd.read_csv('client.csv')\n",
    "df.head()"
   ]
  },
  {
   "cell_type": "code",
   "execution_count": 8,
   "id": "d1e553a4",
   "metadata": {},
   "outputs": [
    {
     "name": "stdout",
     "output_type": "stream",
     "text": [
      "(4476, 17)\n"
     ]
    }
   ],
   "source": [
    "print(df.shape)"
   ]
  },
  {
   "cell_type": "code",
   "execution_count": 9,
   "id": "694cd902",
   "metadata": {},
   "outputs": [
    {
     "data": {
      "text/html": [
       "<div>\n",
       "<style scoped>\n",
       "    .dataframe tbody tr th:only-of-type {\n",
       "        vertical-align: middle;\n",
       "    }\n",
       "\n",
       "    .dataframe tbody tr th {\n",
       "        vertical-align: top;\n",
       "    }\n",
       "\n",
       "    .dataframe thead th {\n",
       "        text-align: right;\n",
       "    }\n",
       "</style>\n",
       "<table border=\"1\" class=\"dataframe\">\n",
       "  <thead>\n",
       "    <tr style=\"text-align: right;\">\n",
       "      <th></th>\n",
       "      <th>profilepicture</th>\n",
       "      <th>pitchvideo</th>\n",
       "      <th>searchstatus</th>\n",
       "      <th>gender</th>\n",
       "      <th>race</th>\n",
       "      <th>graduationyear</th>\n",
       "      <th>degree</th>\n",
       "      <th>monthsatcompany</th>\n",
       "      <th>profileviews</th>\n",
       "    </tr>\n",
       "  </thead>\n",
       "  <tbody>\n",
       "    <tr>\n",
       "      <th>0</th>\n",
       "      <td>1</td>\n",
       "      <td>0</td>\n",
       "      <td>2</td>\n",
       "      <td>NaN</td>\n",
       "      <td>NaN</td>\n",
       "      <td>NaN</td>\n",
       "      <td>Bachelors</td>\n",
       "      <td>35</td>\n",
       "      <td>2</td>\n",
       "    </tr>\n",
       "    <tr>\n",
       "      <th>1</th>\n",
       "      <td>1</td>\n",
       "      <td>0</td>\n",
       "      <td>4</td>\n",
       "      <td>NaN</td>\n",
       "      <td>NaN</td>\n",
       "      <td>2014.0</td>\n",
       "      <td>Bachelors</td>\n",
       "      <td>2</td>\n",
       "      <td>1</td>\n",
       "    </tr>\n",
       "    <tr>\n",
       "      <th>2</th>\n",
       "      <td>1</td>\n",
       "      <td>0</td>\n",
       "      <td>4</td>\n",
       "      <td>Male</td>\n",
       "      <td>White</td>\n",
       "      <td>2015.0</td>\n",
       "      <td>Bachelors</td>\n",
       "      <td>4</td>\n",
       "      <td>3</td>\n",
       "    </tr>\n",
       "    <tr>\n",
       "      <th>3</th>\n",
       "      <td>1</td>\n",
       "      <td>0</td>\n",
       "      <td>4</td>\n",
       "      <td>Female</td>\n",
       "      <td>White</td>\n",
       "      <td>2010.0</td>\n",
       "      <td>Bachelors</td>\n",
       "      <td>15</td>\n",
       "      <td>6</td>\n",
       "    </tr>\n",
       "    <tr>\n",
       "      <th>4</th>\n",
       "      <td>1</td>\n",
       "      <td>0</td>\n",
       "      <td>4</td>\n",
       "      <td>NaN</td>\n",
       "      <td>NaN</td>\n",
       "      <td>NaN</td>\n",
       "      <td>Masters</td>\n",
       "      <td>54</td>\n",
       "      <td>2</td>\n",
       "    </tr>\n",
       "  </tbody>\n",
       "</table>\n",
       "</div>"
      ],
      "text/plain": [
       "   profilepicture  pitchvideo  searchstatus  gender   race  graduationyear  \\\n",
       "0               1           0             2     NaN    NaN             NaN   \n",
       "1               1           0             4     NaN    NaN          2014.0   \n",
       "2               1           0             4    Male  White          2015.0   \n",
       "3               1           0             4  Female  White          2010.0   \n",
       "4               1           0             4     NaN    NaN             NaN   \n",
       "\n",
       "      degree  monthsatcompany  profileviews  \n",
       "0  Bachelors               35             2  \n",
       "1  Bachelors                2             1  \n",
       "2  Bachelors                4             3  \n",
       "3  Bachelors               15             6  \n",
       "4    Masters               54             2  "
      ]
     },
     "execution_count": 9,
     "metadata": {},
     "output_type": "execute_result"
    }
   ],
   "source": [
    "cv = df.drop(columns=['profileviewtimestamp', 'candidateId',\n",
    "                      'profileid', 'firstname', 'lastname', 'school',\n",
    "                      'company', 'position'])\n",
    "cv.head()"
   ]
  },
  {
   "cell_type": "markdown",
   "id": "8e865877",
   "metadata": {},
   "source": [
    "## Replace Null Values"
   ]
  },
  {
   "cell_type": "code",
   "execution_count": 11,
   "id": "82dced72",
   "metadata": {},
   "outputs": [
    {
     "data": {
      "text/plain": [
       "profilepicture        0\n",
       "pitchvideo            0\n",
       "searchstatus          0\n",
       "gender             2372\n",
       "race               2407\n",
       "graduationyear      637\n",
       "degree               12\n",
       "monthsatcompany       0\n",
       "profileviews          0\n",
       "dtype: int64"
      ]
     },
     "execution_count": 11,
     "metadata": {},
     "output_type": "execute_result"
    }
   ],
   "source": [
    "cv.isnull().sum()"
   ]
  },
  {
   "cell_type": "code",
   "execution_count": 13,
   "id": "49e7b2d5",
   "metadata": {},
   "outputs": [],
   "source": [
    "cv.dropna(subset=['degree'], inplace=True)\n",
    "cv['gender'].fillna(\"Unknown\", inplace=True)\n",
    "cv['race'].fillna(\"Unknown\", inplace=True)\n",
    "cv.dropna(subset=['graduationyear'], inplace=True)"
   ]
  },
  {
   "cell_type": "code",
   "execution_count": 14,
   "id": "3805351d",
   "metadata": {
    "scrolled": true
   },
   "outputs": [
    {
     "data": {
      "text/plain": [
       "profilepicture     0\n",
       "pitchvideo         0\n",
       "searchstatus       0\n",
       "gender             0\n",
       "race               0\n",
       "graduationyear     0\n",
       "degree             0\n",
       "monthsatcompany    0\n",
       "profileviews       0\n",
       "dtype: int64"
      ]
     },
     "execution_count": 14,
     "metadata": {},
     "output_type": "execute_result"
    }
   ],
   "source": [
    "cv.isnull().sum()"
   ]
  },
  {
   "cell_type": "code",
   "execution_count": 15,
   "id": "d1713ad7",
   "metadata": {},
   "outputs": [
    {
     "data": {
      "text/plain": [
       "(3839, 9)"
      ]
     },
     "execution_count": 15,
     "metadata": {},
     "output_type": "execute_result"
    }
   ],
   "source": [
    "cv.shape"
   ]
  },
  {
   "cell_type": "markdown",
   "id": "7d184248",
   "metadata": {},
   "source": [
    "## Declare Independent Variables and Target Variable"
   ]
  },
  {
   "cell_type": "code",
   "execution_count": 16,
   "id": "675649ee",
   "metadata": {
    "scrolled": true
   },
   "outputs": [
    {
     "data": {
      "text/html": [
       "<div>\n",
       "<style scoped>\n",
       "    .dataframe tbody tr th:only-of-type {\n",
       "        vertical-align: middle;\n",
       "    }\n",
       "\n",
       "    .dataframe tbody tr th {\n",
       "        vertical-align: top;\n",
       "    }\n",
       "\n",
       "    .dataframe thead th {\n",
       "        text-align: right;\n",
       "    }\n",
       "</style>\n",
       "<table border=\"1\" class=\"dataframe\">\n",
       "  <thead>\n",
       "    <tr style=\"text-align: right;\">\n",
       "      <th></th>\n",
       "      <th>profilepicture</th>\n",
       "      <th>pitchvideo</th>\n",
       "      <th>searchstatus</th>\n",
       "      <th>gender</th>\n",
       "      <th>race</th>\n",
       "      <th>graduationyear</th>\n",
       "      <th>degree</th>\n",
       "      <th>monthsatcompany</th>\n",
       "    </tr>\n",
       "  </thead>\n",
       "  <tbody>\n",
       "    <tr>\n",
       "      <th>1</th>\n",
       "      <td>1</td>\n",
       "      <td>0</td>\n",
       "      <td>4</td>\n",
       "      <td>Unknown</td>\n",
       "      <td>Unknown</td>\n",
       "      <td>2014.0</td>\n",
       "      <td>Bachelors</td>\n",
       "      <td>2</td>\n",
       "    </tr>\n",
       "    <tr>\n",
       "      <th>2</th>\n",
       "      <td>1</td>\n",
       "      <td>0</td>\n",
       "      <td>4</td>\n",
       "      <td>Male</td>\n",
       "      <td>White</td>\n",
       "      <td>2015.0</td>\n",
       "      <td>Bachelors</td>\n",
       "      <td>4</td>\n",
       "    </tr>\n",
       "    <tr>\n",
       "      <th>3</th>\n",
       "      <td>1</td>\n",
       "      <td>0</td>\n",
       "      <td>4</td>\n",
       "      <td>Female</td>\n",
       "      <td>White</td>\n",
       "      <td>2010.0</td>\n",
       "      <td>Bachelors</td>\n",
       "      <td>15</td>\n",
       "    </tr>\n",
       "    <tr>\n",
       "      <th>5</th>\n",
       "      <td>1</td>\n",
       "      <td>0</td>\n",
       "      <td>4</td>\n",
       "      <td>Male</td>\n",
       "      <td>White</td>\n",
       "      <td>2016.0</td>\n",
       "      <td>Bachelors</td>\n",
       "      <td>17</td>\n",
       "    </tr>\n",
       "    <tr>\n",
       "      <th>6</th>\n",
       "      <td>1</td>\n",
       "      <td>0</td>\n",
       "      <td>2</td>\n",
       "      <td>Male</td>\n",
       "      <td>White</td>\n",
       "      <td>2018.0</td>\n",
       "      <td>Bachelors</td>\n",
       "      <td>13</td>\n",
       "    </tr>\n",
       "  </tbody>\n",
       "</table>\n",
       "</div>"
      ],
      "text/plain": [
       "   profilepicture  pitchvideo  searchstatus   gender     race  graduationyear  \\\n",
       "1               1           0             4  Unknown  Unknown          2014.0   \n",
       "2               1           0             4     Male    White          2015.0   \n",
       "3               1           0             4   Female    White          2010.0   \n",
       "5               1           0             4     Male    White          2016.0   \n",
       "6               1           0             2     Male    White          2018.0   \n",
       "\n",
       "      degree  monthsatcompany  \n",
       "1  Bachelors                2  \n",
       "2  Bachelors                4  \n",
       "3  Bachelors               15  \n",
       "5  Bachelors               17  \n",
       "6  Bachelors               13  "
      ]
     },
     "execution_count": 16,
     "metadata": {},
     "output_type": "execute_result"
    }
   ],
   "source": [
    "X = cv.drop(columns=['profileviews'])\n",
    "y = cv['profileviews']\n",
    "X.head()"
   ]
  },
  {
   "cell_type": "markdown",
   "id": "963296d8",
   "metadata": {},
   "source": [
    "## Encode Categorical Variables for the Model"
   ]
  },
  {
   "cell_type": "code",
   "execution_count": 17,
   "id": "b1b0eb69",
   "metadata": {
    "scrolled": true
   },
   "outputs": [
    {
     "data": {
      "text/html": [
       "<div>\n",
       "<style scoped>\n",
       "    .dataframe tbody tr th:only-of-type {\n",
       "        vertical-align: middle;\n",
       "    }\n",
       "\n",
       "    .dataframe tbody tr th {\n",
       "        vertical-align: top;\n",
       "    }\n",
       "\n",
       "    .dataframe thead th {\n",
       "        text-align: right;\n",
       "    }\n",
       "</style>\n",
       "<table border=\"1\" class=\"dataframe\">\n",
       "  <thead>\n",
       "    <tr style=\"text-align: right;\">\n",
       "      <th></th>\n",
       "      <th>profilepicture</th>\n",
       "      <th>pitchvideo</th>\n",
       "      <th>searchstatus</th>\n",
       "      <th>graduationyear</th>\n",
       "      <th>monthsatcompany</th>\n",
       "      <th>gender_Female</th>\n",
       "      <th>gender_I prefer not to respond</th>\n",
       "      <th>gender_Male</th>\n",
       "      <th>race_Alaskan Native or Native American</th>\n",
       "      <th>race_Asian</th>\n",
       "      <th>race_Black or African American</th>\n",
       "      <th>race_Hispanic or Latino</th>\n",
       "      <th>race_I prefer not to respond</th>\n",
       "      <th>race_Native Hawaiian or Other Pacific Islander</th>\n",
       "      <th>race_White</th>\n",
       "      <th>degree_Associates</th>\n",
       "      <th>degree_Bachelors</th>\n",
       "      <th>degree_Diploma</th>\n",
       "      <th>degree_Masters</th>\n",
       "      <th>degree_PhD</th>\n",
       "    </tr>\n",
       "  </thead>\n",
       "  <tbody>\n",
       "    <tr>\n",
       "      <th>1</th>\n",
       "      <td>1</td>\n",
       "      <td>0</td>\n",
       "      <td>4</td>\n",
       "      <td>2014.0</td>\n",
       "      <td>2</td>\n",
       "      <td>0</td>\n",
       "      <td>0</td>\n",
       "      <td>0</td>\n",
       "      <td>0</td>\n",
       "      <td>0</td>\n",
       "      <td>0</td>\n",
       "      <td>0</td>\n",
       "      <td>0</td>\n",
       "      <td>0</td>\n",
       "      <td>0</td>\n",
       "      <td>0</td>\n",
       "      <td>1</td>\n",
       "      <td>0</td>\n",
       "      <td>0</td>\n",
       "      <td>0</td>\n",
       "    </tr>\n",
       "    <tr>\n",
       "      <th>2</th>\n",
       "      <td>1</td>\n",
       "      <td>0</td>\n",
       "      <td>4</td>\n",
       "      <td>2015.0</td>\n",
       "      <td>4</td>\n",
       "      <td>0</td>\n",
       "      <td>0</td>\n",
       "      <td>1</td>\n",
       "      <td>0</td>\n",
       "      <td>0</td>\n",
       "      <td>0</td>\n",
       "      <td>0</td>\n",
       "      <td>0</td>\n",
       "      <td>0</td>\n",
       "      <td>1</td>\n",
       "      <td>0</td>\n",
       "      <td>1</td>\n",
       "      <td>0</td>\n",
       "      <td>0</td>\n",
       "      <td>0</td>\n",
       "    </tr>\n",
       "    <tr>\n",
       "      <th>3</th>\n",
       "      <td>1</td>\n",
       "      <td>0</td>\n",
       "      <td>4</td>\n",
       "      <td>2010.0</td>\n",
       "      <td>15</td>\n",
       "      <td>1</td>\n",
       "      <td>0</td>\n",
       "      <td>0</td>\n",
       "      <td>0</td>\n",
       "      <td>0</td>\n",
       "      <td>0</td>\n",
       "      <td>0</td>\n",
       "      <td>0</td>\n",
       "      <td>0</td>\n",
       "      <td>1</td>\n",
       "      <td>0</td>\n",
       "      <td>1</td>\n",
       "      <td>0</td>\n",
       "      <td>0</td>\n",
       "      <td>0</td>\n",
       "    </tr>\n",
       "    <tr>\n",
       "      <th>5</th>\n",
       "      <td>1</td>\n",
       "      <td>0</td>\n",
       "      <td>4</td>\n",
       "      <td>2016.0</td>\n",
       "      <td>17</td>\n",
       "      <td>0</td>\n",
       "      <td>0</td>\n",
       "      <td>1</td>\n",
       "      <td>0</td>\n",
       "      <td>0</td>\n",
       "      <td>0</td>\n",
       "      <td>0</td>\n",
       "      <td>0</td>\n",
       "      <td>0</td>\n",
       "      <td>1</td>\n",
       "      <td>0</td>\n",
       "      <td>1</td>\n",
       "      <td>0</td>\n",
       "      <td>0</td>\n",
       "      <td>0</td>\n",
       "    </tr>\n",
       "    <tr>\n",
       "      <th>6</th>\n",
       "      <td>1</td>\n",
       "      <td>0</td>\n",
       "      <td>2</td>\n",
       "      <td>2018.0</td>\n",
       "      <td>13</td>\n",
       "      <td>0</td>\n",
       "      <td>0</td>\n",
       "      <td>1</td>\n",
       "      <td>0</td>\n",
       "      <td>0</td>\n",
       "      <td>0</td>\n",
       "      <td>0</td>\n",
       "      <td>0</td>\n",
       "      <td>0</td>\n",
       "      <td>1</td>\n",
       "      <td>0</td>\n",
       "      <td>1</td>\n",
       "      <td>0</td>\n",
       "      <td>0</td>\n",
       "      <td>0</td>\n",
       "    </tr>\n",
       "  </tbody>\n",
       "</table>\n",
       "</div>"
      ],
      "text/plain": [
       "   profilepicture  pitchvideo  searchstatus  graduationyear  monthsatcompany  \\\n",
       "1               1           0             4          2014.0                2   \n",
       "2               1           0             4          2015.0                4   \n",
       "3               1           0             4          2010.0               15   \n",
       "5               1           0             4          2016.0               17   \n",
       "6               1           0             2          2018.0               13   \n",
       "\n",
       "   gender_Female  gender_I prefer not to respond  gender_Male  \\\n",
       "1              0                               0            0   \n",
       "2              0                               0            1   \n",
       "3              1                               0            0   \n",
       "5              0                               0            1   \n",
       "6              0                               0            1   \n",
       "\n",
       "   race_Alaskan Native or Native American  race_Asian  \\\n",
       "1                                       0           0   \n",
       "2                                       0           0   \n",
       "3                                       0           0   \n",
       "5                                       0           0   \n",
       "6                                       0           0   \n",
       "\n",
       "   race_Black or African American  race_Hispanic or Latino  \\\n",
       "1                               0                        0   \n",
       "2                               0                        0   \n",
       "3                               0                        0   \n",
       "5                               0                        0   \n",
       "6                               0                        0   \n",
       "\n",
       "   race_I prefer not to respond  \\\n",
       "1                             0   \n",
       "2                             0   \n",
       "3                             0   \n",
       "5                             0   \n",
       "6                             0   \n",
       "\n",
       "   race_Native Hawaiian or Other Pacific Islander  race_White  \\\n",
       "1                                               0           0   \n",
       "2                                               0           1   \n",
       "3                                               0           1   \n",
       "5                                               0           1   \n",
       "6                                               0           1   \n",
       "\n",
       "   degree_Associates  degree_Bachelors  degree_Diploma  degree_Masters  \\\n",
       "1                  0                 1               0               0   \n",
       "2                  0                 1               0               0   \n",
       "3                  0                 1               0               0   \n",
       "5                  0                 1               0               0   \n",
       "6                  0                 1               0               0   \n",
       "\n",
       "   degree_PhD  \n",
       "1           0  \n",
       "2           0  \n",
       "3           0  \n",
       "5           0  \n",
       "6           0  "
      ]
     },
     "execution_count": 17,
     "metadata": {},
     "output_type": "execute_result"
    }
   ],
   "source": [
    "X = pd.get_dummies(X, columns=['gender', 'race', 'degree'])\n",
    "X = X.drop(columns=['gender_Unknown', 'race_Unknown', 'degree_Other'])\n",
    "X.head()"
   ]
  },
  {
   "cell_type": "markdown",
   "id": "101a6493",
   "metadata": {},
   "source": [
    "## Check Distribution and Remove Outliers"
   ]
  },
  {
   "cell_type": "code",
   "execution_count": 18,
   "id": "eac07df0",
   "metadata": {
    "scrolled": true
   },
   "outputs": [
    {
     "data": {
      "text/plain": [
       "<seaborn.axisgrid.FacetGrid at 0x7fb27351c7c0>"
      ]
     },
     "execution_count": 18,
     "metadata": {},
     "output_type": "execute_result"
    },
    {
     "data": {
      "image/png": "[encoded data removed]",
      "text/plain": [
       "<Figure size 360x360 with 1 Axes>"
      ]
     },
     "metadata": {
      "needs_background": "light"
     },
     "output_type": "display_data"
    }
   ],
   "source": [
    "sns.displot(cv.graduationyear, rug=True)"
   ]
  },
  {
   "cell_type": "code",
   "execution_count": 19,
   "id": "20d956bb",
   "metadata": {},
   "outputs": [
    {
     "data": {
      "text/plain": [
       "<seaborn.axisgrid.FacetGrid at 0x7fb281004a30>"
      ]
     },
     "execution_count": 19,
     "metadata": {},
     "output_type": "execute_result"
    },
    {
     "data": {
      "image/png": "[encoded data removed]",
      "text/plain": [
       "<Figure size 360x360 with 1 Axes>"
      ]
     },
     "metadata": {
      "needs_background": "light"
     },
     "output_type": "display_data"
    }
   ],
   "source": [
    "sns.displot(cv.monthsatcompany, rug=True)"
   ]
  },
  {
   "cell_type": "code",
   "execution_count": 20,
   "id": "32ceedc1",
   "metadata": {},
   "outputs": [],
   "source": [
    "cv = cv.loc[cv['graduationyear'] > 1982]\n",
    "cv = cv.loc[cv['monthsatcompany'] < 250]"
   ]
  },
  {
   "cell_type": "markdown",
   "id": "b0e744f9",
   "metadata": {},
   "source": [
    "## Choose Model Based on Accuracy Score"
   ]
  },
  {
   "cell_type": "code",
   "execution_count": 21,
   "id": "154459a9",
   "metadata": {},
   "outputs": [
    {
     "name": "stdout",
     "output_type": "stream",
     "text": [
      "Average MSE for GradientBoostingRegressor is 1.182\n",
      "Average MSE for RandomForestRegressor is 1.308\n"
     ]
    }
   ],
   "source": [
    "mse_gb = -cross_val_score(GradientBoostingRegressor(), X, y, cv=100, scoring='neg_root_mean_squared_error')\n",
    "mse_rf = -cross_val_score(RandomForestRegressor(n_estimators=1000), X, y, cv=100, scoring = 'neg_root_mean_squared_error')\n",
    "\n",
    "print('Average MSE for GradientBoostingRegressor is {0:.3f}'.format(np.mean(mse_gb)))\n",
    "print('Average MSE for RandomForestRegressor is {0:.3f}'.format(np.mean(mse_rf)))"
   ]
  },
  {
   "cell_type": "markdown",
   "id": "cce3a086",
   "metadata": {},
   "source": [
    "## Check for Variable Correlations with Scatter Plot"
   ]
  },
  {
   "cell_type": "code",
   "execution_count": 22,
   "id": "da7c668c",
   "metadata": {},
   "outputs": [
    {
     "name": "stderr",
     "output_type": "stream",
     "text": [
      "Pass the following variables as keyword args: x, y. From version 0.12, the only valid positional argument will be `data`, and passing other arguments without an explicit keyword will result in an error or misinterpretation.\n"
     ]
    },
    {
     "data": {
      "image/png": "[encoded data removed]",
      "text/plain": [
       "<Figure size 432x288 with 1 Axes>"
      ]
     },
     "metadata": {
      "needs_background": "light"
     },
     "output_type": "display_data"
    }
   ],
   "source": [
    "sns.regplot(X['graduationyear'], y, lowess=True)\n",
    "plt.ylabel('Profile Views')\n",
    "plt.xlabel('Graduation Year')\n",
    "plt.title('Graduation Year vs. Profile Views')\n",
    "plt.show()"
   ]
  },
  {
   "cell_type": "markdown",
   "id": "df862a43",
   "metadata": {},
   "source": [
    "## Build Model"
   ]
  },
  {
   "cell_type": "code",
   "execution_count": 23,
   "id": "8d1ba759",
   "metadata": {},
   "outputs": [],
   "source": [
    "rf = RandomForestRegressor(n_estimators=1000).fit(X,y)"
   ]
  },
  {
   "cell_type": "code",
   "execution_count": 24,
   "id": "a0805bfc",
   "metadata": {},
   "outputs": [],
   "source": [
    "gb = GradientBoostingRegressor().fit(X,y)"
   ]
  },
  {
   "cell_type": "markdown",
   "id": "56550c1c",
   "metadata": {},
   "source": [
    "## Check Which Features are Most Important"
   ]
  },
  {
   "cell_type": "code",
   "execution_count": 25,
   "id": "98e56e6b",
   "metadata": {},
   "outputs": [],
   "source": [
    "importance = shap.TreeExplainer(gb)\n",
    "shap_values = importance.shap_values(X)"
   ]
  },
  {
   "cell_type": "code",
   "execution_count": 26,
   "id": "ab1388db",
   "metadata": {},
   "outputs": [
    {
     "data": {
      "image/png": "[encoded data removed]",
      "text/plain": [
       "<Figure size 576x684 with 1 Axes>"
      ]
     },
     "metadata": {
      "needs_background": "light"
     },
     "output_type": "display_data"
    }
   ],
   "source": [
    "shap.summary_plot(shap_values, X, plot_type='bar')"
   ]
  },
  {
   "cell_type": "markdown",
   "id": "1f02ae73",
   "metadata": {},
   "source": [
    "## Plot Partial Dependence of Numerical Variables"
   ]
  },
  {
   "cell_type": "code",
   "execution_count": 27,
   "id": "70852ab9",
   "metadata": {},
   "outputs": [
    {
     "data": {
      "image/png": "[encoded data removed]",
      "text/plain": [
       "<Figure size 432x288 with 1 Axes>"
      ]
     },
     "metadata": {
      "needs_background": "light"
     },
     "output_type": "display_data"
    }
   ],
   "source": [
    "gy_values = np.linspace(np.min(X['graduationyear']), np.max(X['graduationyear']))\n",
    "\n",
    "pdp_gy = []\n",
    "for n in gy_values:\n",
    "    X_gy = X.copy()\n",
    "    X_gy['graduationyear'] = n\n",
    "    pdp_gy.append(np.mean(gb.predict(X_gy)))\n",
    "    \n",
    "plt.plot(gy_values, pdp_gy)\n",
    "plt.ylabel('Predicted Profile Views')\n",
    "plt.xlabel('Graduation Year')\n",
    "plt.title('Partial Dependence Plot for Graduation Year vs Profile Views')\n",
    "plt.show()"
   ]
  },
  {
   "cell_type": "code",
   "execution_count": 28,
   "id": "512d37aa",
   "metadata": {},
   "outputs": [
    {
     "data": {
      "image/png": "[encoded data removed]",
      "text/plain": [
       "<Figure size 432x288 with 1 Axes>"
      ]
     },
     "metadata": {
      "needs_background": "light"
     },
     "output_type": "display_data"
    }
   ],
   "source": [
    "mc_values = np.linspace(np.min(X['monthsatcompany']), np.max(X['monthsatcompany']))\n",
    "\n",
    "pdp_mc = []\n",
    "for n in mc_values:\n",
    "    X_mc = X.copy()\n",
    "    X_mc['monthsatcompany'] = n\n",
    "    pdp_mc.append(np.mean(gb.predict(X_mc)))\n",
    "    \n",
    "plt.plot(mc_values, pdp_mc)\n",
    "plt.ylabel('Predicted Profile Views')\n",
    "plt.xlabel('Months at Highlighted Company')\n",
    "plt.title('Partial Dependence Plot for Months at Highlighted Company vs Profile Views')\n",
    "plt.show()"
   ]
  },
  {
   "cell_type": "markdown",
   "id": "d3712eca",
   "metadata": {},
   "source": [
    "## Plot Partial Dependence of Categorical Variables"
   ]
  },
  {
   "cell_type": "code",
   "execution_count": 29,
   "id": "8ea679f5",
   "metadata": {},
   "outputs": [
    {
     "data": {
      "image/png": "[encoded data removed]",
      "text/plain": [
       "<Figure size 432x288 with 1 Axes>"
      ]
     },
     "metadata": {
      "needs_background": "light"
     },
     "output_type": "display_data"
    }
   ],
   "source": [
    "ss_values = np.array(X['searchstatus'])\n",
    "pdp_ss = []\n",
    "for n in ss_values:\n",
    "    X_ss = X.copy()\n",
    "    X_ss['searchstatus'] = n\n",
    "    pdp_ss.append(np.mean(gb.predict(X_ss)))\n",
    "    \n",
    "plt.bar(ss_values, pdp_ss, width=0.5)\n",
    "plt.ylabel('Predicted Profile Views')\n",
    "plt.xlabel('Search Status')\n",
    "plt.title('Partial Dependence Plot for Search Status vs Profile Views')\n",
    "plt.show()\n"
   ]
  },
  {
   "cell_type": "code",
   "execution_count": 30,
   "id": "d03aca03",
   "metadata": {},
   "outputs": [
    {
     "data": {
      "image/png": "[encoded data removed]",
      "text/plain": [
       "<Figure size 432x288 with 1 Axes>"
      ]
     },
     "metadata": {
      "needs_background": "light"
     },
     "output_type": "display_data"
    }
   ],
   "source": [
    "pp_values = np.array(X['profilepicture'])\n",
    "pdp_pp = []\n",
    "for n in pp_values:\n",
    "    X_pp = X.copy()\n",
    "    X_pp['profilepicture'] = n\n",
    "    pdp_pp.append(np.mean(gb.predict(X_pp)))\n",
    "    \n",
    "plt.bar(pp_values, pdp_pp, width=0.5)\n",
    "plt.ylabel('Predicted Profile Views')\n",
    "plt.xlabel('Profile Picture')\n",
    "plt.title('Partial Dependence Plot for Profile Picture vs Profile Views')\n",
    "plt.show()\n"
   ]
  },
  {
   "cell_type": "code",
   "execution_count": 31,
   "id": "403d1b62",
   "metadata": {},
   "outputs": [
    {
     "data": {
      "image/png": "[encoded data removed]",
      "text/plain": [
       "<Figure size 432x288 with 1 Axes>"
      ]
     },
     "metadata": {
      "needs_background": "light"
     },
     "output_type": "display_data"
    }
   ],
   "source": [
    "pv_values = np.array(X['pitchvideo'])\n",
    "pdp_pv = []\n",
    "for n in pv_values:\n",
    "    X_pv = X.copy()\n",
    "    X_pv['profilepicture'] = n\n",
    "    pdp_pv.append(np.mean(gb.predict(X_pv)))\n",
    "    \n",
    "plt.bar(pv_values, pdp_pv, width=0.5)\n",
    "plt.ylabel('Predicted Profile Views')\n",
    "plt.xlabel('Pitch Video')\n",
    "plt.title('Partial Dependence Plot for Pitch Video vs Profile Views')\n",
    "plt.show()"
   ]
  },
  {
   "cell_type": "code",
   "execution_count": null,
   "id": "f6573e9a",
   "metadata": {},
   "outputs": [],
   "source": []
  }
 ],
 "metadata": {
  "kernelspec": {
   "display_name": "Python 3",
   "language": "python",
   "name": "python3"
  },
  "language_info": {
   "codemirror_mode": {
    "name": "ipython",
    "version": 3
   },
   "file_extension": ".py",
   "mimetype": "text/x-python",
   "name": "python",
   "nbconvert_exporter": "python",
   "pygments_lexer": "ipython3",
   "version": "3.8.8"
  }
 },
 "nbformat": 4,
 "nbformat_minor": 5
}
