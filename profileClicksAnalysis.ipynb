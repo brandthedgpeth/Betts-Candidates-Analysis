{
 "cells": [
  {
   "cell_type": "markdown",
   "id": "f3f8f03b",
   "metadata": {},
   "source": [
    "## Imports"
   ]
  },
  {
   "cell_type": "code",
   "execution_count": 32,
   "id": "c4ed4858",
   "metadata": {},
   "outputs": [],
   "source": [
    "import pandas as pd\n",
    "import seaborn as sns\n",
    "import numpy as np\n",
    "import shap\n",
    "from matplotlib import pyplot as plt\n",
    "from sklearn.ensemble import RandomForestRegressor, GradientBoostingRegressor\n",
    "from sklearn.model_selection import cross_val_score\n",
    "from statsmodels.graphics.regressionplots import plot_partregress"
   ]
  },
  {
   "cell_type": "markdown",
   "id": "13323461",
   "metadata": {},
   "source": [
    "# Client Views"
   ]
  },
  {
   "cell_type": "markdown",
   "id": "f970e9f9",
   "metadata": {},
   "source": [
    "## Load and Clean Data"
   ]
  },
  {
   "cell_type": "code",
   "execution_count": 33,
   "id": "a5c06ffc",
   "metadata": {
    "scrolled": true
   },
   "outputs": [],
   "source": [
    "df = pd.read_csv('client.csv')\n",
    "#df.head()"
   ]
  },
  {
   "cell_type": "code",
   "execution_count": 34,
   "id": "d1e553a4",
   "metadata": {},
   "outputs": [],
   "source": [
    "#df.shape"
   ]
  },
  {
   "cell_type": "code",
   "execution_count": 35,
   "id": "694cd902",
   "metadata": {},
   "outputs": [],
   "source": [
    "cv = df.drop(columns=['profileviewtimestamp', 'candidateId',\n",
    "                      'profileid', 'firstname', 'lastname', 'school',\n",
    "                      'company', 'position'])\n",
    "#cv.head()"
   ]
  },
  {
   "cell_type": "markdown",
   "id": "8e865877",
   "metadata": {},
   "source": [
    "## Replace Null Values"
   ]
  },
  {
   "cell_type": "code",
   "execution_count": 36,
   "id": "82dced72",
   "metadata": {},
   "outputs": [
    {
     "data": {
      "text/plain": [
       "profilepicture        0\n",
       "pitchvideo            0\n",
       "searchstatus          0\n",
       "gender             2372\n",
       "race               2407\n",
       "graduationyear      637\n",
       "degree               12\n",
       "monthsatcompany       0\n",
       "profileviews          0\n",
       "dtype: int64"
      ]
     },
     "execution_count": 36,
     "metadata": {},
     "output_type": "execute_result"
    }
   ],
   "source": [
    "cv.isnull().sum()"
   ]
  },
  {
   "cell_type": "code",
   "execution_count": 37,
   "id": "49e7b2d5",
   "metadata": {},
   "outputs": [],
   "source": [
    "cv.dropna(subset=['degree'], inplace=True)\n",
    "cv['gender'].fillna(\"Unknown\", inplace=True)\n",
    "cv['race'].fillna(\"Unknown\", inplace=True)\n",
    "cv.dropna(subset=['graduationyear'], inplace=True)"
   ]
  },
  {
   "cell_type": "code",
   "execution_count": 38,
   "id": "3805351d",
   "metadata": {
    "scrolled": true
   },
   "outputs": [
    {
     "data": {
      "text/plain": [
       "profilepicture     0\n",
       "pitchvideo         0\n",
       "searchstatus       0\n",
       "gender             0\n",
       "race               0\n",
       "graduationyear     0\n",
       "degree             0\n",
       "monthsatcompany    0\n",
       "profileviews       0\n",
       "dtype: int64"
      ]
     },
     "execution_count": 38,
     "metadata": {},
     "output_type": "execute_result"
    }
   ],
   "source": [
    "cv.isnull().sum()"
   ]
  },
  {
   "cell_type": "code",
   "execution_count": 39,
   "id": "d1713ad7",
   "metadata": {},
   "outputs": [],
   "source": [
    "#cv.shape"
   ]
  },
  {
   "cell_type": "markdown",
   "id": "7d184248",
   "metadata": {},
   "source": [
    "## Declare Independent Variables and Target Variable"
   ]
  },
  {
   "cell_type": "code",
   "execution_count": 40,
   "id": "675649ee",
   "metadata": {
    "scrolled": true
   },
   "outputs": [],
   "source": [
    "X = cv.drop(columns=['profileviews'])\n",
    "y = cv['profileviews']\n",
    "#X.head()"
   ]
  },
  {
   "cell_type": "markdown",
   "id": "963296d8",
   "metadata": {},
   "source": [
    "## Encode Categorical Variables for the Model"
   ]
  },
  {
   "cell_type": "code",
   "execution_count": 41,
   "id": "b1b0eb69",
   "metadata": {
    "scrolled": true
   },
   "outputs": [],
   "source": [
    "X = pd.get_dummies(X, columns=['gender', 'race', 'degree'])\n",
    "X = X.drop(columns=['gender_Unknown', 'race_Unknown', 'degree_Other'])\n",
    "#X.head()"
   ]
  },
  {
   "cell_type": "markdown",
   "id": "101a6493",
   "metadata": {},
   "source": [
    "## Check Distribution and Remove Outliers"
   ]
  },
  {
   "cell_type": "code",
   "execution_count": 42,
   "id": "eac07df0",
   "metadata": {
    "scrolled": true
   },
   "outputs": [],
   "source": [
    "#sns.displot(cv.graduationyear, rug=True)"
   ]
  },
  {
   "cell_type": "code",
   "execution_count": 43,
   "id": "20d956bb",
   "metadata": {},
   "outputs": [],
   "source": [
    "#sns.displot(cv.monthsatcompany, rug=True)"
   ]
  },
  {
   "cell_type": "code",
   "execution_count": 44,
   "id": "32ceedc1",
   "metadata": {},
   "outputs": [],
   "source": [
    "cv = cv.loc[cv['graduationyear'] > 1982]\n",
    "cv = cv.loc[cv['monthsatcompany'] < 250]"
   ]
  },
  {
   "cell_type": "markdown",
   "id": "b0e744f9",
   "metadata": {},
   "source": [
    "## Choose Model Based on Accuracy Score"
   ]
  },
  {
   "cell_type": "code",
   "execution_count": 45,
   "id": "154459a9",
   "metadata": {},
   "outputs": [
    {
     "name": "stdout",
     "output_type": "stream",
     "text": [
      "Average MSE for GradientBoostingRegressor is 1.182\n",
      "Average MSE for RandomForestRegressor is 1.308\n"
     ]
    }
   ],
   "source": [
    "mse_gb = -cross_val_score(GradientBoostingRegressor(), X, y, cv=100, scoring='neg_root_mean_squared_error')\n",
    "mse_rf = -cross_val_score(RandomForestRegressor(n_estimators=1000), X, y, cv=100, scoring = 'neg_root_mean_squared_error')\n",
    "\n",
    "print('Average MSE for GradientBoostingRegressor is {0:.3f}'.format(np.mean(mse_gb)))\n",
    "print('Average MSE for RandomForestRegressor is {0:.3f}'.format(np.mean(mse_rf)))"
   ]
  },
  {
   "cell_type": "markdown",
   "id": "cce3a086",
   "metadata": {},
   "source": [
    "## Check for Variable Correlations with Scatter Plot"
   ]
  },
  {
   "cell_type": "code",
   "execution_count": 46,
   "id": "da7c668c",
   "metadata": {},
   "outputs": [],
   "source": [
    "#sns.regplot(X['graduationyear'], y, lowess=True)\n",
    "#plt.ylabel('Profile Views')\n",
    "#plt.xlabel('Graduation Year')\n",
    "#plt.title('Graduation Year vs. Profile Views')\n",
    "#plt.show()"
   ]
  },
  {
   "cell_type": "markdown",
   "id": "df862a43",
   "metadata": {},
   "source": [
    "## Build Model"
   ]
  },
  {
   "cell_type": "code",
   "execution_count": 47,
   "id": "8d1ba759",
   "metadata": {},
   "outputs": [],
   "source": [
    "rf = RandomForestRegressor(n_estimators=1000).fit(X,y)"
   ]
  },
  {
   "cell_type": "code",
   "execution_count": 48,
   "id": "a0805bfc",
   "metadata": {},
   "outputs": [],
   "source": [
    "gb = GradientBoostingRegressor().fit(X,y)"
   ]
  },
  {
   "cell_type": "markdown",
   "id": "56550c1c",
   "metadata": {},
   "source": [
    "## Check Which Features are Most Important"
   ]
  },
  {
   "cell_type": "code",
   "execution_count": 49,
   "id": "98e56e6b",
   "metadata": {},
   "outputs": [],
   "source": [
    "importance = shap.TreeExplainer(gb)\n",
    "shap_values = importance.shap_values(X)"
   ]
  },
  {
   "cell_type": "code",
   "execution_count": 50,
   "id": "ab1388db",
   "metadata": {},
   "outputs": [],
   "source": [
    "#shap.summary_plot(shap_values, X, plot_type='bar')"
   ]
  },
  {
   "cell_type": "markdown",
   "id": "1f02ae73",
   "metadata": {},
   "source": [
    "## Plot Partial Dependence of Numerical Variables"
   ]
  },
  {
   "cell_type": "code",
   "execution_count": 51,
   "id": "70852ab9",
   "metadata": {},
   "outputs": [],
   "source": [
    "#gy_values = np.linspace(np.min(X['graduationyear']), np.max(X['graduationyear']))\n",
    "\n",
    "#pdp_gy = []\n",
    "#for n in gy_values:\n",
    "#    X_gy = X.copy()\n",
    "#    X_gy['graduationyear'] = n\n",
    "#    pdp_gy.append(np.mean(gb.predict(X_gy)))\n",
    "    \n",
    "#plt.plot(gy_values, pdp_gy)\n",
    "#plt.ylabel('Predicted Profile Views')\n",
    "#plt.xlabel('Graduation Year')\n",
    "#plt.title('Partial Dependence Plot for Graduation Year vs Profile Views')\n",
    "#plt.show()"
   ]
  },
  {
   "cell_type": "code",
   "execution_count": 52,
   "id": "512d37aa",
   "metadata": {},
   "outputs": [],
   "source": [
    "#mc_values = np.linspace(np.min(X['monthsatcompany']), np.max(X['monthsatcompany']))\n",
    "\n",
    "#pdp_mc = []\n",
    "#for n in mc_values:\n",
    "#    X_mc = X.copy()\n",
    "#    X_mc['monthsatcompany'] = n\n",
    "#    pdp_mc.append(np.mean(gb.predict(X_mc)))\n",
    "    \n",
    "#plt.plot(mc_values, pdp_mc)\n",
    "#plt.ylabel('Predicted Profile Views')\n",
    "#plt.xlabel('Months at Highlighted Company')\n",
    "#plt.title('Partial Dependence Plot for Months at Highlighted Company vs Profile Views')\n",
    "#plt.show()"
   ]
  },
  {
   "cell_type": "markdown",
   "id": "d3712eca",
   "metadata": {},
   "source": [
    "## Plot Partial Dependence of Categorical Variables"
   ]
  },
  {
   "cell_type": "code",
   "execution_count": 53,
   "id": "8ea679f5",
   "metadata": {},
   "outputs": [],
   "source": [
    "#ss_values = np.array(X['searchstatus'])\n",
    "#pdp_ss = []\n",
    "#for n in ss_values:\n",
    "#    X_ss = X.copy()\n",
    "#    X_ss['searchstatus'] = n\n",
    "#    pdp_ss.append(np.mean(gb.predict(X_ss)))\n",
    "    \n",
    "#plt.bar(ss_values, pdp_ss, width=0.5)\n",
    "#plt.ylabel('Predicted Profile Views')\n",
    "#plt.xlabel('Search Status')\n",
    "#plt.title('Partial Dependence Plot for Search Status vs Profile Views')\n",
    "#plt.show()\n"
   ]
  },
  {
   "cell_type": "code",
   "execution_count": 54,
   "id": "d03aca03",
   "metadata": {},
   "outputs": [],
   "source": [
    "#pp_values = np.array(X['profilepicture'])\n",
    "#pdp_pp = []\n",
    "#for n in pp_values:\n",
    "#    X_pp = X.copy()\n",
    "#    X_pp['profilepicture'] = n\n",
    "#    pdp_pp.append(np.mean(gb.predict(X_pp)))\n",
    "    \n",
    "#plt.bar(pp_values, pdp_pp, width=0.5)\n",
    "#plt.ylabel('Predicted Profile Views')\n",
    "#plt.xlabel('Profile Picture')\n",
    "#plt.title('Partial Dependence Plot for Profile Picture vs Profile Views')\n",
    "#plt.show()\n"
   ]
  },
  {
   "cell_type": "code",
   "execution_count": 55,
   "id": "403d1b62",
   "metadata": {},
   "outputs": [],
   "source": [
    "#pv_values = np.array(X['pitchvideo'])\n",
    "#pdp_pv = []\n",
    "#for n in pv_values:\n",
    "#    X_pv = X.copy()\n",
    "#    X_pv['profilepicture'] = n\n",
    "#    pdp_pv.append(np.mean(gb.predict(X_pv)))\n",
    "    \n",
    "#plt.bar(pv_values, pdp_pv, width=0.5)\n",
    "#plt.ylabel('Predicted Profile Views')\n",
    "#plt.xlabel('Pitch Video')\n",
    "#plt.title('Partial Dependence Plot for Pitch Video vs Profile Views')\n",
    "#plt.show()"
   ]
  }
 ],
 "metadata": {
  "kernelspec": {
   "display_name": "Python 3",
   "language": "python",
   "name": "python3"
  },
  "language_info": {
   "codemirror_mode": {
    "name": "ipython",
    "version": 3
   },
   "file_extension": ".py",
   "mimetype": "text/x-python",
   "name": "python",
   "nbconvert_exporter": "python",
   "pygments_lexer": "ipython3",
   "version": "3.8.8"
  }
 },
 "nbformat": 4,
 "nbformat_minor": 5
}
